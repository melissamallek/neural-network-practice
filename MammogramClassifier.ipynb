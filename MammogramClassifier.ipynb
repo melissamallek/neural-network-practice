{
 "cells": [
  {
   "cell_type": "code",
   "execution_count": 18,
   "metadata": {},
   "outputs": [],
   "source": [
    "from sklearn.datasets import load_breast_cancer\n",
    "\n",
    "data = load_breast_cancer()"
   ]
  },
  {
   "cell_type": "code",
   "execution_count": 19,
   "metadata": {},
   "outputs": [
    {
     "data": {
      "text/plain": [
       "array([[1.799e+01, 1.038e+01, 1.228e+02, ..., 2.654e-01, 4.601e-01,\n",
       "        1.189e-01],\n",
       "       [2.057e+01, 1.777e+01, 1.329e+02, ..., 1.860e-01, 2.750e-01,\n",
       "        8.902e-02],\n",
       "       [1.969e+01, 2.125e+01, 1.300e+02, ..., 2.430e-01, 3.613e-01,\n",
       "        8.758e-02],\n",
       "       ...,\n",
       "       [1.660e+01, 2.808e+01, 1.083e+02, ..., 1.418e-01, 2.218e-01,\n",
       "        7.820e-02],\n",
       "       [2.060e+01, 2.933e+01, 1.401e+02, ..., 2.650e-01, 4.087e-01,\n",
       "        1.240e-01],\n",
       "       [7.760e+00, 2.454e+01, 4.792e+01, ..., 0.000e+00, 2.871e-01,\n",
       "        7.039e-02]])"
      ]
     },
     "execution_count": 19,
     "metadata": {},
     "output_type": "execute_result"
    }
   ],
   "source": [
    "data.data"
   ]
  },
  {
   "cell_type": "code",
   "execution_count": 20,
   "metadata": {},
   "outputs": [
    {
     "data": {
      "text/plain": [
       "array(['mean radius', 'mean texture', 'mean perimeter', 'mean area',\n",
       "       'mean smoothness', 'mean compactness', 'mean concavity',\n",
       "       'mean concave points', 'mean symmetry', 'mean fractal dimension',\n",
       "       'radius error', 'texture error', 'perimeter error', 'area error',\n",
       "       'smoothness error', 'compactness error', 'concavity error',\n",
       "       'concave points error', 'symmetry error',\n",
       "       'fractal dimension error', 'worst radius', 'worst texture',\n",
       "       'worst perimeter', 'worst area', 'worst smoothness',\n",
       "       'worst compactness', 'worst concavity', 'worst concave points',\n",
       "       'worst symmetry', 'worst fractal dimension'], dtype='<U23')"
      ]
     },
     "execution_count": 20,
     "metadata": {},
     "output_type": "execute_result"
    }
   ],
   "source": [
    "data.feature_names"
   ]
  },
  {
   "cell_type": "code",
   "execution_count": 21,
   "metadata": {},
   "outputs": [
    {
     "data": {
      "text/plain": [
       "(569,)"
      ]
     },
     "execution_count": 21,
     "metadata": {},
     "output_type": "execute_result"
    }
   ],
   "source": [
    "data.target.shape"
   ]
  },
  {
   "cell_type": "code",
   "execution_count": 22,
   "metadata": {},
   "outputs": [
    {
     "data": {
      "text/plain": [
       "array(['malignant', 'benign'], dtype='<U9')"
      ]
     },
     "execution_count": 22,
     "metadata": {},
     "output_type": "execute_result"
    }
   ],
   "source": [
    "data.target_names"
   ]
  },
  {
   "cell_type": "code",
   "execution_count": 23,
   "metadata": {},
   "outputs": [],
   "source": [
    "from sklearn.model_selection import train_test_split\n",
    "\n",
    "X_train, X_test, y_train, y_test = train_test_split(data.data, data.target, train_size = 0.66)"
   ]
  },
  {
   "cell_type": "code",
   "execution_count": 24,
   "metadata": {},
   "outputs": [
    {
     "data": {
      "text/plain": [
       "(569, 30)"
      ]
     },
     "execution_count": 24,
     "metadata": {},
     "output_type": "execute_result"
    }
   ],
   "source": [
    "N, D = data.data.shape\n",
    "N, D"
   ]
  },
  {
   "cell_type": "code",
   "execution_count": 25,
   "metadata": {},
   "outputs": [],
   "source": [
    "from sklearn.preprocessing import StandardScaler\n",
    "\n",
    "scaler = StandardScaler()\n",
    "\n",
    "X_train = scaler.fit_transform(X_train)\n",
    "X_test = scaler.transform(X_test)"
   ]
  },
  {
   "cell_type": "code",
   "execution_count": 26,
   "metadata": {},
   "outputs": [
    {
     "data": {
      "text/plain": [
       "array([[-1.0369082 , -0.2703754 , -1.06378617, ..., -1.40819765,\n",
       "        -0.28750615, -0.94117682],\n",
       "       [ 0.44875493,  1.04088288,  0.56992706, ...,  1.67030689,\n",
       "         0.29357605,  1.45660012],\n",
       "       [-1.28451872,  2.03073149, -1.29086258, ..., -0.98880534,\n",
       "        -0.98702548, -0.65166384],\n",
       "       ...,\n",
       "       [-1.39085452,  0.51684538, -1.38275343, ..., -1.16265328,\n",
       "         0.03264424,  0.01452075],\n",
       "       [ 1.73086094,  0.51218727,  1.72298047, ...,  1.81623765,\n",
       "         2.20337487, -0.22074663],\n",
       "       [ 0.99866295,  1.38325404,  0.94986036, ...,  0.99775643,\n",
       "        -0.65577162, -0.20489961]])"
      ]
     },
     "execution_count": 26,
     "metadata": {},
     "output_type": "execute_result"
    }
   ],
   "source": [
    "X_train"
   ]
  },
  {
   "cell_type": "code",
   "execution_count": 27,
   "metadata": {},
   "outputs": [],
   "source": [
    "from tensorflow.keras.models import Sequential\n",
    "from tensorflow.keras.layers import Input, Dense\n",
    "\n",
    "model = Sequential()\n",
    "model.add(Input(shape=(D,)))\n",
    "model.add(Dense(1, activation = 'sigmoid'))\n"
   ]
  },
  {
   "cell_type": "code",
   "execution_count": 28,
   "metadata": {},
   "outputs": [],
   "source": [
    "model.compile(optimizer='adam',\n",
    "              loss = 'binary_crossentropy',\n",
    "              metrics = ['accuracy'])"
   ]
  },
  {
   "cell_type": "code",
   "execution_count": 29,
   "metadata": {},
   "outputs": [
    {
     "name": "stdout",
     "output_type": "stream",
     "text": [
      "Epoch 1/100\n",
      " 1/12 [=>............................] - ETA: 1s - loss: 0.7825 - accuracy: 0.5312"
     ]
    },
    {
     "name": "stderr",
     "output_type": "stream",
     "text": [
      "2024-01-25 13:44:17.103582: W tensorflow/core/platform/profile_utils/cpu_utils.cc:128] Failed to get CPU frequency: 0 Hz\n"
     ]
    },
    {
     "name": "stdout",
     "output_type": "stream",
     "text": [
      "12/12 [==============================] - 0s 8ms/step - loss: 0.8064 - accuracy: 0.4800 - val_loss: 0.7981 - val_accuracy: 0.5103\n",
      "Epoch 2/100\n",
      "12/12 [==============================] - 0s 2ms/step - loss: 0.7320 - accuracy: 0.5520 - val_loss: 0.7176 - val_accuracy: 0.5928\n",
      "Epoch 3/100\n",
      "12/12 [==============================] - 0s 2ms/step - loss: 0.6667 - accuracy: 0.6053 - val_loss: 0.6490 - val_accuracy: 0.6289\n",
      "Epoch 4/100\n",
      "12/12 [==============================] - 0s 2ms/step - loss: 0.6119 - accuracy: 0.6587 - val_loss: 0.5912 - val_accuracy: 0.6649\n",
      "Epoch 5/100\n",
      "12/12 [==============================] - 0s 2ms/step - loss: 0.5642 - accuracy: 0.6933 - val_loss: 0.5426 - val_accuracy: 0.7113\n",
      "Epoch 6/100\n",
      "12/12 [==============================] - 0s 2ms/step - loss: 0.5241 - accuracy: 0.7307 - val_loss: 0.5014 - val_accuracy: 0.7423\n",
      "Epoch 7/100\n",
      "12/12 [==============================] - 0s 2ms/step - loss: 0.4895 - accuracy: 0.7707 - val_loss: 0.4664 - val_accuracy: 0.7938\n",
      "Epoch 8/100\n",
      "12/12 [==============================] - 0s 2ms/step - loss: 0.4592 - accuracy: 0.7893 - val_loss: 0.4369 - val_accuracy: 0.8144\n",
      "Epoch 9/100\n",
      "12/12 [==============================] - 0s 2ms/step - loss: 0.4338 - accuracy: 0.8187 - val_loss: 0.4103 - val_accuracy: 0.8196\n",
      "Epoch 10/100\n",
      "12/12 [==============================] - 0s 2ms/step - loss: 0.4103 - accuracy: 0.8320 - val_loss: 0.3879 - val_accuracy: 0.8299\n",
      "Epoch 11/100\n",
      "12/12 [==============================] - 0s 2ms/step - loss: 0.3907 - accuracy: 0.8400 - val_loss: 0.3675 - val_accuracy: 0.8557\n",
      "Epoch 12/100\n",
      "12/12 [==============================] - 0s 2ms/step - loss: 0.3727 - accuracy: 0.8480 - val_loss: 0.3497 - val_accuracy: 0.8557\n",
      "Epoch 13/100\n",
      "12/12 [==============================] - 0s 2ms/step - loss: 0.3571 - accuracy: 0.8587 - val_loss: 0.3334 - val_accuracy: 0.8608\n",
      "Epoch 14/100\n",
      "12/12 [==============================] - 0s 2ms/step - loss: 0.3419 - accuracy: 0.8640 - val_loss: 0.3194 - val_accuracy: 0.8711\n",
      "Epoch 15/100\n",
      "12/12 [==============================] - 0s 2ms/step - loss: 0.3292 - accuracy: 0.8667 - val_loss: 0.3063 - val_accuracy: 0.8763\n",
      "Epoch 16/100\n",
      "12/12 [==============================] - 0s 2ms/step - loss: 0.3174 - accuracy: 0.8667 - val_loss: 0.2945 - val_accuracy: 0.8814\n",
      "Epoch 17/100\n",
      "12/12 [==============================] - 0s 2ms/step - loss: 0.3062 - accuracy: 0.8667 - val_loss: 0.2840 - val_accuracy: 0.8918\n",
      "Epoch 18/100\n",
      "12/12 [==============================] - 0s 2ms/step - loss: 0.2961 - accuracy: 0.8747 - val_loss: 0.2743 - val_accuracy: 0.8866\n",
      "Epoch 19/100\n",
      "12/12 [==============================] - 0s 2ms/step - loss: 0.2870 - accuracy: 0.8827 - val_loss: 0.2652 - val_accuracy: 0.8918\n",
      "Epoch 20/100\n",
      "12/12 [==============================] - 0s 2ms/step - loss: 0.2781 - accuracy: 0.8880 - val_loss: 0.2566 - val_accuracy: 0.8969\n",
      "Epoch 21/100\n",
      "12/12 [==============================] - 0s 2ms/step - loss: 0.2700 - accuracy: 0.8933 - val_loss: 0.2488 - val_accuracy: 0.8969\n",
      "Epoch 22/100\n",
      "12/12 [==============================] - 0s 2ms/step - loss: 0.2624 - accuracy: 0.8987 - val_loss: 0.2415 - val_accuracy: 0.8969\n",
      "Epoch 23/100\n",
      "12/12 [==============================] - 0s 2ms/step - loss: 0.2556 - accuracy: 0.8987 - val_loss: 0.2348 - val_accuracy: 0.9021\n",
      "Epoch 24/100\n",
      "12/12 [==============================] - 0s 2ms/step - loss: 0.2488 - accuracy: 0.9040 - val_loss: 0.2284 - val_accuracy: 0.9021\n",
      "Epoch 25/100\n",
      "12/12 [==============================] - 0s 2ms/step - loss: 0.2426 - accuracy: 0.9040 - val_loss: 0.2225 - val_accuracy: 0.9021\n",
      "Epoch 26/100\n",
      "12/12 [==============================] - 0s 2ms/step - loss: 0.2368 - accuracy: 0.9040 - val_loss: 0.2173 - val_accuracy: 0.9072\n",
      "Epoch 27/100\n",
      "12/12 [==============================] - 0s 2ms/step - loss: 0.2311 - accuracy: 0.9040 - val_loss: 0.2121 - val_accuracy: 0.9124\n",
      "Epoch 28/100\n",
      "12/12 [==============================] - 0s 2ms/step - loss: 0.2259 - accuracy: 0.9040 - val_loss: 0.2074 - val_accuracy: 0.9124\n",
      "Epoch 29/100\n",
      "12/12 [==============================] - 0s 2ms/step - loss: 0.2209 - accuracy: 0.9040 - val_loss: 0.2029 - val_accuracy: 0.9124\n",
      "Epoch 30/100\n",
      "12/12 [==============================] - 0s 2ms/step - loss: 0.2162 - accuracy: 0.9147 - val_loss: 0.1988 - val_accuracy: 0.9175\n",
      "Epoch 31/100\n",
      "12/12 [==============================] - 0s 2ms/step - loss: 0.2118 - accuracy: 0.9200 - val_loss: 0.1949 - val_accuracy: 0.9175\n",
      "Epoch 32/100\n",
      "12/12 [==============================] - 0s 2ms/step - loss: 0.2076 - accuracy: 0.9227 - val_loss: 0.1913 - val_accuracy: 0.9175\n",
      "Epoch 33/100\n",
      "12/12 [==============================] - 0s 2ms/step - loss: 0.2035 - accuracy: 0.9253 - val_loss: 0.1877 - val_accuracy: 0.9227\n",
      "Epoch 34/100\n",
      "12/12 [==============================] - 0s 2ms/step - loss: 0.1995 - accuracy: 0.9253 - val_loss: 0.1844 - val_accuracy: 0.9227\n",
      "Epoch 35/100\n",
      "12/12 [==============================] - 0s 2ms/step - loss: 0.1959 - accuracy: 0.9280 - val_loss: 0.1812 - val_accuracy: 0.9227\n",
      "Epoch 36/100\n",
      "12/12 [==============================] - 0s 2ms/step - loss: 0.1924 - accuracy: 0.9307 - val_loss: 0.1785 - val_accuracy: 0.9278\n",
      "Epoch 37/100\n",
      "12/12 [==============================] - 0s 2ms/step - loss: 0.1890 - accuracy: 0.9333 - val_loss: 0.1757 - val_accuracy: 0.9330\n",
      "Epoch 38/100\n",
      "12/12 [==============================] - 0s 2ms/step - loss: 0.1857 - accuracy: 0.9333 - val_loss: 0.1730 - val_accuracy: 0.9330\n",
      "Epoch 39/100\n",
      "12/12 [==============================] - 0s 2ms/step - loss: 0.1828 - accuracy: 0.9333 - val_loss: 0.1704 - val_accuracy: 0.9330\n",
      "Epoch 40/100\n",
      "12/12 [==============================] - 0s 2ms/step - loss: 0.1796 - accuracy: 0.9360 - val_loss: 0.1681 - val_accuracy: 0.9330\n",
      "Epoch 41/100\n",
      "12/12 [==============================] - 0s 2ms/step - loss: 0.1769 - accuracy: 0.9387 - val_loss: 0.1658 - val_accuracy: 0.9330\n",
      "Epoch 42/100\n",
      "12/12 [==============================] - 0s 2ms/step - loss: 0.1740 - accuracy: 0.9413 - val_loss: 0.1636 - val_accuracy: 0.9330\n",
      "Epoch 43/100\n",
      "12/12 [==============================] - 0s 2ms/step - loss: 0.1713 - accuracy: 0.9413 - val_loss: 0.1615 - val_accuracy: 0.9330\n",
      "Epoch 44/100\n",
      "12/12 [==============================] - 0s 2ms/step - loss: 0.1688 - accuracy: 0.9413 - val_loss: 0.1594 - val_accuracy: 0.9330\n",
      "Epoch 45/100\n",
      "12/12 [==============================] - 0s 2ms/step - loss: 0.1663 - accuracy: 0.9413 - val_loss: 0.1576 - val_accuracy: 0.9330\n",
      "Epoch 46/100\n",
      "12/12 [==============================] - 0s 2ms/step - loss: 0.1640 - accuracy: 0.9440 - val_loss: 0.1558 - val_accuracy: 0.9330\n",
      "Epoch 47/100\n",
      "12/12 [==============================] - 0s 2ms/step - loss: 0.1617 - accuracy: 0.9440 - val_loss: 0.1540 - val_accuracy: 0.9330\n",
      "Epoch 48/100\n",
      "12/12 [==============================] - 0s 2ms/step - loss: 0.1595 - accuracy: 0.9467 - val_loss: 0.1525 - val_accuracy: 0.9330\n",
      "Epoch 49/100\n",
      "12/12 [==============================] - 0s 2ms/step - loss: 0.1573 - accuracy: 0.9467 - val_loss: 0.1507 - val_accuracy: 0.9330\n",
      "Epoch 50/100\n",
      "12/12 [==============================] - 0s 2ms/step - loss: 0.1552 - accuracy: 0.9467 - val_loss: 0.1492 - val_accuracy: 0.9330\n",
      "Epoch 51/100\n",
      "12/12 [==============================] - 0s 2ms/step - loss: 0.1533 - accuracy: 0.9467 - val_loss: 0.1476 - val_accuracy: 0.9330\n",
      "Epoch 52/100\n",
      "12/12 [==============================] - 0s 2ms/step - loss: 0.1513 - accuracy: 0.9467 - val_loss: 0.1463 - val_accuracy: 0.9330\n",
      "Epoch 53/100\n",
      "12/12 [==============================] - 0s 2ms/step - loss: 0.1495 - accuracy: 0.9467 - val_loss: 0.1449 - val_accuracy: 0.9330\n",
      "Epoch 54/100\n",
      "12/12 [==============================] - 0s 2ms/step - loss: 0.1477 - accuracy: 0.9467 - val_loss: 0.1435 - val_accuracy: 0.9381\n",
      "Epoch 55/100\n",
      "12/12 [==============================] - 0s 2ms/step - loss: 0.1459 - accuracy: 0.9467 - val_loss: 0.1420 - val_accuracy: 0.9381\n",
      "Epoch 56/100\n",
      "12/12 [==============================] - 0s 2ms/step - loss: 0.1442 - accuracy: 0.9493 - val_loss: 0.1409 - val_accuracy: 0.9433\n",
      "Epoch 57/100\n",
      "12/12 [==============================] - 0s 2ms/step - loss: 0.1426 - accuracy: 0.9520 - val_loss: 0.1398 - val_accuracy: 0.9433\n",
      "Epoch 58/100\n",
      "12/12 [==============================] - 0s 2ms/step - loss: 0.1411 - accuracy: 0.9520 - val_loss: 0.1387 - val_accuracy: 0.9433\n",
      "Epoch 59/100\n",
      "12/12 [==============================] - 0s 2ms/step - loss: 0.1394 - accuracy: 0.9547 - val_loss: 0.1375 - val_accuracy: 0.9433\n",
      "Epoch 60/100\n",
      "12/12 [==============================] - 0s 2ms/step - loss: 0.1380 - accuracy: 0.9573 - val_loss: 0.1365 - val_accuracy: 0.9433\n",
      "Epoch 61/100\n",
      "12/12 [==============================] - 0s 2ms/step - loss: 0.1366 - accuracy: 0.9573 - val_loss: 0.1353 - val_accuracy: 0.9433\n",
      "Epoch 62/100\n",
      "12/12 [==============================] - 0s 2ms/step - loss: 0.1352 - accuracy: 0.9573 - val_loss: 0.1344 - val_accuracy: 0.9485\n",
      "Epoch 63/100\n",
      "12/12 [==============================] - 0s 2ms/step - loss: 0.1338 - accuracy: 0.9573 - val_loss: 0.1333 - val_accuracy: 0.9485\n",
      "Epoch 64/100\n",
      "12/12 [==============================] - 0s 2ms/step - loss: 0.1325 - accuracy: 0.9600 - val_loss: 0.1324 - val_accuracy: 0.9485\n",
      "Epoch 65/100\n",
      "12/12 [==============================] - 0s 2ms/step - loss: 0.1313 - accuracy: 0.9600 - val_loss: 0.1315 - val_accuracy: 0.9485\n",
      "Epoch 66/100\n",
      "12/12 [==============================] - 0s 2ms/step - loss: 0.1299 - accuracy: 0.9600 - val_loss: 0.1305 - val_accuracy: 0.9485\n",
      "Epoch 67/100\n",
      "12/12 [==============================] - 0s 2ms/step - loss: 0.1288 - accuracy: 0.9600 - val_loss: 0.1296 - val_accuracy: 0.9485\n",
      "Epoch 68/100\n",
      "12/12 [==============================] - 0s 2ms/step - loss: 0.1275 - accuracy: 0.9600 - val_loss: 0.1287 - val_accuracy: 0.9485\n",
      "Epoch 69/100\n",
      "12/12 [==============================] - 0s 2ms/step - loss: 0.1264 - accuracy: 0.9627 - val_loss: 0.1280 - val_accuracy: 0.9485\n",
      "Epoch 70/100\n",
      "12/12 [==============================] - 0s 2ms/step - loss: 0.1252 - accuracy: 0.9653 - val_loss: 0.1272 - val_accuracy: 0.9485\n",
      "Epoch 71/100\n",
      "12/12 [==============================] - 0s 2ms/step - loss: 0.1242 - accuracy: 0.9653 - val_loss: 0.1265 - val_accuracy: 0.9485\n",
      "Epoch 72/100\n",
      "12/12 [==============================] - 0s 2ms/step - loss: 0.1231 - accuracy: 0.9653 - val_loss: 0.1256 - val_accuracy: 0.9485\n",
      "Epoch 73/100\n",
      "12/12 [==============================] - 0s 2ms/step - loss: 0.1221 - accuracy: 0.9653 - val_loss: 0.1249 - val_accuracy: 0.9485\n",
      "Epoch 74/100\n",
      "12/12 [==============================] - 0s 2ms/step - loss: 0.1210 - accuracy: 0.9653 - val_loss: 0.1241 - val_accuracy: 0.9485\n",
      "Epoch 75/100\n",
      "12/12 [==============================] - 0s 2ms/step - loss: 0.1201 - accuracy: 0.9653 - val_loss: 0.1233 - val_accuracy: 0.9485\n",
      "Epoch 76/100\n",
      "12/12 [==============================] - 0s 2ms/step - loss: 0.1191 - accuracy: 0.9653 - val_loss: 0.1227 - val_accuracy: 0.9485\n",
      "Epoch 77/100\n",
      "12/12 [==============================] - 0s 2ms/step - loss: 0.1182 - accuracy: 0.9653 - val_loss: 0.1220 - val_accuracy: 0.9485\n",
      "Epoch 78/100\n",
      "12/12 [==============================] - 0s 2ms/step - loss: 0.1173 - accuracy: 0.9653 - val_loss: 0.1212 - val_accuracy: 0.9485\n",
      "Epoch 79/100\n",
      "12/12 [==============================] - 0s 2ms/step - loss: 0.1164 - accuracy: 0.9653 - val_loss: 0.1207 - val_accuracy: 0.9485\n",
      "Epoch 80/100\n",
      "12/12 [==============================] - 0s 2ms/step - loss: 0.1155 - accuracy: 0.9653 - val_loss: 0.1200 - val_accuracy: 0.9485\n",
      "Epoch 81/100\n",
      "12/12 [==============================] - 0s 2ms/step - loss: 0.1147 - accuracy: 0.9680 - val_loss: 0.1194 - val_accuracy: 0.9485\n",
      "Epoch 82/100\n",
      "12/12 [==============================] - 0s 2ms/step - loss: 0.1138 - accuracy: 0.9680 - val_loss: 0.1187 - val_accuracy: 0.9485\n",
      "Epoch 83/100\n",
      "12/12 [==============================] - 0s 2ms/step - loss: 0.1131 - accuracy: 0.9680 - val_loss: 0.1180 - val_accuracy: 0.9485\n",
      "Epoch 84/100\n",
      "12/12 [==============================] - 0s 2ms/step - loss: 0.1123 - accuracy: 0.9680 - val_loss: 0.1174 - val_accuracy: 0.9485\n",
      "Epoch 85/100\n",
      "12/12 [==============================] - 0s 2ms/step - loss: 0.1115 - accuracy: 0.9680 - val_loss: 0.1170 - val_accuracy: 0.9485\n",
      "Epoch 86/100\n",
      "12/12 [==============================] - 0s 2ms/step - loss: 0.1107 - accuracy: 0.9680 - val_loss: 0.1165 - val_accuracy: 0.9485\n",
      "Epoch 87/100\n",
      "12/12 [==============================] - 0s 2ms/step - loss: 0.1100 - accuracy: 0.9680 - val_loss: 0.1160 - val_accuracy: 0.9485\n",
      "Epoch 88/100\n",
      "12/12 [==============================] - 0s 2ms/step - loss: 0.1092 - accuracy: 0.9680 - val_loss: 0.1155 - val_accuracy: 0.9485\n",
      "Epoch 89/100\n",
      "12/12 [==============================] - 0s 2ms/step - loss: 0.1085 - accuracy: 0.9680 - val_loss: 0.1150 - val_accuracy: 0.9485\n",
      "Epoch 90/100\n",
      "12/12 [==============================] - 0s 2ms/step - loss: 0.1079 - accuracy: 0.9680 - val_loss: 0.1145 - val_accuracy: 0.9485\n",
      "Epoch 91/100\n",
      "12/12 [==============================] - 0s 2ms/step - loss: 0.1072 - accuracy: 0.9680 - val_loss: 0.1140 - val_accuracy: 0.9485\n",
      "Epoch 92/100\n",
      "12/12 [==============================] - 0s 2ms/step - loss: 0.1065 - accuracy: 0.9680 - val_loss: 0.1135 - val_accuracy: 0.9485\n",
      "Epoch 93/100\n",
      "12/12 [==============================] - 0s 2ms/step - loss: 0.1059 - accuracy: 0.9680 - val_loss: 0.1130 - val_accuracy: 0.9485\n",
      "Epoch 94/100\n",
      "12/12 [==============================] - 0s 2ms/step - loss: 0.1052 - accuracy: 0.9680 - val_loss: 0.1126 - val_accuracy: 0.9485\n",
      "Epoch 95/100\n",
      "12/12 [==============================] - 0s 2ms/step - loss: 0.1046 - accuracy: 0.9680 - val_loss: 0.1122 - val_accuracy: 0.9485\n",
      "Epoch 96/100\n",
      "12/12 [==============================] - 0s 2ms/step - loss: 0.1040 - accuracy: 0.9680 - val_loss: 0.1117 - val_accuracy: 0.9485\n",
      "Epoch 97/100\n",
      "12/12 [==============================] - 0s 2ms/step - loss: 0.1034 - accuracy: 0.9680 - val_loss: 0.1114 - val_accuracy: 0.9485\n",
      "Epoch 98/100\n",
      "12/12 [==============================] - 0s 2ms/step - loss: 0.1028 - accuracy: 0.9680 - val_loss: 0.1110 - val_accuracy: 0.9485\n",
      "Epoch 99/100\n",
      "12/12 [==============================] - 0s 2ms/step - loss: 0.1022 - accuracy: 0.9680 - val_loss: 0.1106 - val_accuracy: 0.9536\n",
      "Epoch 100/100\n",
      "12/12 [==============================] - 0s 2ms/step - loss: 0.1017 - accuracy: 0.9680 - val_loss: 0.1101 - val_accuracy: 0.9536\n"
     ]
    }
   ],
   "source": [
    "r = model.fit(X_train, y_train, validation_data = (X_test, y_test), epochs = 100)"
   ]
  },
  {
   "cell_type": "code",
   "execution_count": 30,
   "metadata": {},
   "outputs": [
    {
     "data": {
      "text/plain": [
       "<matplotlib.legend.Legend at 0x17e4501c0>"
      ]
     },
     "execution_count": 30,
     "metadata": {},
     "output_type": "execute_result"
    },
    {
     "data": {
      "image/png": "[encoded data removed]",
      "text/plain": [
       "<Figure size 640x480 with 1 Axes>"
      ]
     },
     "metadata": {},
     "output_type": "display_data"
    }
   ],
   "source": [
    "import matplotlib.pyplot as plt\n",
    "\n",
    "plt.plot(r.history['loss'], label = 'loss')\n",
    "plt.plot(r.history['val_loss'], label = 'val_loss')\n",
    "plt.legend()"
   ]
  },
  {
   "cell_type": "code",
   "execution_count": 31,
   "metadata": {},
   "outputs": [
    {
     "data": {
      "text/plain": [
       "<matplotlib.legend.Legend at 0x17fdf2980>"
      ]
     },
     "execution_count": 31,
     "metadata": {},
     "output_type": "execute_result"
    },
    {
     "data": {
      "image/png": "[encoded data removed]",
      "text/plain": [
       "<Figure size 640x480 with 1 Axes>"
      ]
     },
     "metadata": {},
     "output_type": "display_data"
    }
   ],
   "source": [
    "plt.plot(r.history['accuracy'], label = 'loss')\n",
    "plt.plot(r.history['val_accuracy'], label = 'val_loss')\n",
    "plt.legend()"
   ]
  },
  {
   "cell_type": "code",
   "execution_count": null,
   "metadata": {},
   "outputs": [],
   "source": []
  }
 ],
 "metadata": {
  "kernelspec": {
   "display_name": "base",
   "language": "python",
   "name": "python3"
  },
  "language_info": {
   "codemirror_mode": {
    "name": "ipython",
    "version": 3
   },
   "file_extension": ".py",
   "mimetype": "text/x-python",
   "name": "python",
   "nbconvert_exporter": "python",
   "pygments_lexer": "ipython3",
   "version": "3.10.9"
  },
  "orig_nbformat": 4,
  "vscode": {
   "interpreter": {
    "hash": "8e02a7bd230bb76ca46c0facf87982504370e0a85c5dfc1b3545a440ba6e17d8"
   }
  }
 },
 "nbformat": 4,
 "nbformat_minor": 2
}
