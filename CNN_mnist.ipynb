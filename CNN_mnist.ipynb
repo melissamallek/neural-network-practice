{
  "nbformat": 4,
  "nbformat_minor": 0,
  "metadata": {
    "colab": {
      "name": "CNN Practice w/ mnist.ipynb",
      "provenance": [],
      "authorship_tag": "ABX9TyPM7zxfEdPYT22YVC4Kx+U1",
      "include_colab_link": true
    },
    "kernelspec": {
      "name": "python3",
      "display_name": "Python 3"
    },
    "language_info": {
      "name": "python"
    }
  },
  "cells": [
    {
      "cell_type": "markdown",
      "metadata": {
        "id": "view-in-github",
        "colab_type": "text"
      },
      "source": [
        "<a href=\"https://colab.research.google.com/github/melissamallek/neural-network-practice/blob/main/CNN_mnist.ipynb\" target=\"_parent\"><img src=\"https://colab.research.google.com/assets/colab-badge.svg\" alt=\"Open In Colab\"/></a>"
      ]
    },
    {
      "cell_type": "code",
      "metadata": {
        "id": "wKe0ynHGh2us"
      },
      "source": [
        "# Practice Convolutional Neural Network using Mnist dataset\n",
        "\n",
        "import tensorflow as tf\n",
        "import tensorflow_datasets as tfds\n",
        "from os import path, getcwd, chdir\n",
        "from keras.datasets import mnist\n",
        "\n",
        "\n",
        "path = f\"{getcwd()}/../tmp2/mnist.npz\""
      ],
      "execution_count": 1,
      "outputs": []
    },
    {
      "cell_type": "code",
      "metadata": {
        "id": "8PN0U-lQiADF"
      },
      "source": [
        "def train_mnist_conv():\n",
        "\n",
        "    class myCallback(tf.keras.callbacks.Callback):\n",
        "          def on_epoch_end(self, epoch, logs={}):\n",
        "                if(logs.get('acc')>0.998):\n",
        "                    print(\"\\nReached 99.8% accuracy so cancelling training!\")\n",
        "                    self.model.stop_training = True\n",
        "    callbacks = myCallback()\n",
        "\n",
        "#     mnist = tf.keras.datasets.mnist\n",
        "    (training_images, training_labels), (test_images, test_labels) = tf.keras.datasets.mnist.load_data()\n",
        "    training_images=training_images.reshape(60000, 28, 28, 1)\n",
        "    training_images=training_images / 255.0\n",
        "    test_images = test_images.reshape(10000, 28, 28, 1)\n",
        "    test_images=test_images/255.0\n",
        "    \n",
        "\n",
        "    model = tf.keras.models.Sequential([\n",
        "        tf.keras.layers.Conv2D(64, (3,3), activation='relu', input_shape=(28, 28, 1)),\n",
        "        tf.keras.layers.MaxPooling2D(2, 2),\n",
        "        tf.keras.layers.Conv2D(64, (3,3), activation='relu'),\n",
        "        tf.keras.layers.MaxPooling2D(2,2),\n",
        "        tf.keras.layers.Flatten(),\n",
        "        tf.keras.layers.Dense(128, activation='relu'),\n",
        "        tf.keras.layers.Dense(10, activation='softmax')\n",
        "    ])\n",
        "\n",
        "    model.compile(optimizer='adam', loss='sparse_categorical_crossentropy', metrics=['acc'])\n",
        "    # model fitting\n",
        "    history = model.fit(\n",
        "        training_images, training_labels, epochs=20, callbacks=[callbacks]\n",
        "    )\n",
        "    # model fitting\n",
        "    return history.epoch, history.history['acc'][-1]"
      ],
      "execution_count": 8,
      "outputs": []
    },
    {
      "cell_type": "code",
      "metadata": {
        "colab": {
          "base_uri": "https://localhost:8080/"
        },
        "id": "yE06A1gkh_9H",
        "outputId": "4fb4d6be-81e8-48e6-a467-c723a04fc0ce"
      },
      "source": [
        "-,__ = train_mnist_conv()"
      ],
      "execution_count": 9,
      "outputs": [
        {
          "output_type": "stream",
          "text": [
            "Epoch 1/20\n",
            "1875/1875 [==============================] - 89s 47ms/step - loss: 0.2715 - acc: 0.9148\n",
            "Epoch 2/20\n",
            "1875/1875 [==============================] - 89s 47ms/step - loss: 0.0417 - acc: 0.9867\n",
            "Epoch 3/20\n",
            "1875/1875 [==============================] - 90s 48ms/step - loss: 0.0268 - acc: 0.9911\n",
            "Epoch 4/20\n",
            "1875/1875 [==============================] - 89s 47ms/step - loss: 0.0190 - acc: 0.9938\n",
            "Epoch 5/20\n",
            "1875/1875 [==============================] - 89s 47ms/step - loss: 0.0134 - acc: 0.9959\n",
            "Epoch 6/20\n",
            "1875/1875 [==============================] - 89s 47ms/step - loss: 0.0106 - acc: 0.9968\n",
            "Epoch 7/20\n",
            "1875/1875 [==============================] - 89s 47ms/step - loss: 0.0085 - acc: 0.9970\n",
            "Epoch 8/20\n",
            "1875/1875 [==============================] - 88s 47ms/step - loss: 0.0077 - acc: 0.9974\n",
            "Epoch 9/20\n",
            "1875/1875 [==============================] - 87s 47ms/step - loss: 0.0052 - acc: 0.9984\n",
            "Epoch 10/20\n",
            "1875/1875 [==============================] - 87s 47ms/step - loss: 0.0053 - acc: 0.9980\n",
            "Epoch 11/20\n",
            "1875/1875 [==============================] - 88s 47ms/step - loss: 0.0053 - acc: 0.9981\n",
            "Epoch 12/20\n",
            "1875/1875 [==============================] - 87s 46ms/step - loss: 0.0031 - acc: 0.9988\n",
            "\n",
            "Reached 99.8% accuracy so cancelling training!\n"
          ],
          "name": "stdout"
        },
        {
          "output_type": "execute_result",
          "data": {
            "text/plain": [
              "([0, 1, 2, 3, 4, 5, 6, 7, 8, 9, 10, 11], 0.9986166954040527)"
            ]
          },
          "metadata": {
            "tags": []
          },
          "execution_count": 9
        }
      ]
    },
    {
      "cell_type": "code",
      "metadata": {
        "id": "DT4_m9coiSd7"
      },
      "source": [
        ""
      ],
      "execution_count": null,
      "outputs": []
    }
  ]
}